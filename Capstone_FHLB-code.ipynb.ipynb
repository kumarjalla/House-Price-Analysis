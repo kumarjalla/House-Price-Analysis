{
 "cells": [
  {
   "cell_type": "code",
   "execution_count": 3,
   "id": "0eced4be",
   "metadata": {},
   "outputs": [],
   "source": [
    "from scipy import stats\n",
    "from sklearn.linear_model import LinearRegression\n",
    "from statsmodels.compat import lzip\n",
    "from statsmodels.formula.api import ols\n",
    "from statsmodels.stats.anova import anova_lm\n",
    "from statsmodels.stats.outliers_influence import variance_inflation_factor\n",
    "import matplotlib\n",
    "import matplotlib.pyplot as plt\n",
    "import numpy as np\n",
    "import pandas as pd\n",
    "import seaborn as sns\n",
    "import statsmodels.api as sm\n",
    "import statsmodels.tsa.api as smt\n",
    "from tqdm.notebook import tqdm_notebook\n",
    "from scipy import signal\n"
   ]
  },
  {
   "cell_type": "code",
   "execution_count": 4,
   "id": "ae7622f9",
   "metadata": {},
   "outputs": [],
   "source": [
    "df = pd.read_csv(r\"C:\\Users\\kumar\\Downloads\\Capstone_Final_Avengers\\Capstone Final\\FHLB_Data_Set.csv\")"
   ]
  },
  {
   "cell_type": "markdown",
   "id": "d06cfb83",
   "metadata": {},
   "source": [
    "# 1. Providing Descriptions of our Sample "
   ]
  },
  {
   "cell_type": "markdown",
   "id": "6625fc28",
   "metadata": {},
   "source": [
    "## Number of Observations and rows in the Dataset"
   ]
  },
  {
   "cell_type": "markdown",
   "id": "2ff20bd8",
   "metadata": {},
   "source": [
    "## HousePrice"
   ]
  },
  {
   "cell_type": "code",
   "execution_count": 5,
   "id": "96d382fc",
   "metadata": {},
   "outputs": [],
   "source": [
    "df['HousePrice'] = df['NoteAmount'] / (df['LTVRatioPercent'] / 100)\n"
   ]
  },
  {
   "cell_type": "markdown",
   "id": "567c81cd",
   "metadata": {},
   "source": [
    "## Datatypes of the Variables"
   ]
  },
  {
   "cell_type": "code",
   "execution_count": 6,
   "id": "5ceae033",
   "metadata": {},
   "outputs": [
    {
     "data": {
      "text/html": [
       "<div>\n",
       "<style scoped>\n",
       "    .dataframe tbody tr th:only-of-type {\n",
       "        vertical-align: middle;\n",
       "    }\n",
       "\n",
       "    .dataframe tbody tr th {\n",
       "        vertical-align: top;\n",
       "    }\n",
       "\n",
       "    .dataframe thead th {\n",
       "        text-align: right;\n",
       "    }\n",
       "</style>\n",
       "<table border=\"1\" class=\"dataframe\">\n",
       "  <thead>\n",
       "    <tr style=\"text-align: right;\">\n",
       "      <th></th>\n",
       "      <th>Year</th>\n",
       "      <th>LoanCharacteristicsID</th>\n",
       "      <th>Bank</th>\n",
       "      <th>FIPSStateNumericCode</th>\n",
       "      <th>FIPSCountyCode</th>\n",
       "      <th>CoreBasedStatisticalAreaCode</th>\n",
       "      <th>CensusTractIdentifier</th>\n",
       "      <th>CensusTractMinorityRatioPercent</th>\n",
       "      <th>CensusTractMedFamIncomeAmount</th>\n",
       "      <th>LocalAreaMedianIncomeAmount</th>\n",
       "      <th>...</th>\n",
       "      <th>Borrower1Race4Type</th>\n",
       "      <th>Borrower1Race5Type</th>\n",
       "      <th>Borrower2EthnicityType</th>\n",
       "      <th>Borrower2Race2Type</th>\n",
       "      <th>Borrower2Race3Type</th>\n",
       "      <th>Borrower2Race4Type</th>\n",
       "      <th>Borrower2Race5Type</th>\n",
       "      <th>HOEPALoanStatusType</th>\n",
       "      <th>LienPriorityType</th>\n",
       "      <th>HousePrice</th>\n",
       "    </tr>\n",
       "  </thead>\n",
       "  <tbody>\n",
       "    <tr>\n",
       "      <th>0</th>\n",
       "      <td>2010</td>\n",
       "      <td>1</td>\n",
       "      <td>Boston</td>\n",
       "      <td>4</td>\n",
       "      <td>13</td>\n",
       "      <td>99999</td>\n",
       "      <td>101.0</td>\n",
       "      <td>3.64</td>\n",
       "      <td>85567</td>\n",
       "      <td>44769</td>\n",
       "      <td>...</td>\n",
       "      <td>6</td>\n",
       "      <td>6</td>\n",
       "      <td>2</td>\n",
       "      <td>6</td>\n",
       "      <td>6</td>\n",
       "      <td>6</td>\n",
       "      <td>6</td>\n",
       "      <td>3</td>\n",
       "      <td>1</td>\n",
       "      <td>4.099404e+05</td>\n",
       "    </tr>\n",
       "    <tr>\n",
       "      <th>1</th>\n",
       "      <td>2010</td>\n",
       "      <td>2</td>\n",
       "      <td>Boston</td>\n",
       "      <td>9</td>\n",
       "      <td>1</td>\n",
       "      <td>99999</td>\n",
       "      <td>726.0</td>\n",
       "      <td>24.22</td>\n",
       "      <td>44167</td>\n",
       "      <td>64875</td>\n",
       "      <td>...</td>\n",
       "      <td>6</td>\n",
       "      <td>6</td>\n",
       "      <td>2</td>\n",
       "      <td>6</td>\n",
       "      <td>6</td>\n",
       "      <td>6</td>\n",
       "      <td>6</td>\n",
       "      <td>3</td>\n",
       "      <td>1</td>\n",
       "      <td>1.919912e+05</td>\n",
       "    </tr>\n",
       "    <tr>\n",
       "      <th>2</th>\n",
       "      <td>2010</td>\n",
       "      <td>3</td>\n",
       "      <td>Boston</td>\n",
       "      <td>9</td>\n",
       "      <td>1</td>\n",
       "      <td>99999</td>\n",
       "      <td>612.0</td>\n",
       "      <td>11.32</td>\n",
       "      <td>65361</td>\n",
       "      <td>64875</td>\n",
       "      <td>...</td>\n",
       "      <td>6</td>\n",
       "      <td>6</td>\n",
       "      <td>5</td>\n",
       "      <td>8</td>\n",
       "      <td>8</td>\n",
       "      <td>8</td>\n",
       "      <td>8</td>\n",
       "      <td>3</td>\n",
       "      <td>1</td>\n",
       "      <td>2.749924e+05</td>\n",
       "    </tr>\n",
       "    <tr>\n",
       "      <th>3</th>\n",
       "      <td>2010</td>\n",
       "      <td>4</td>\n",
       "      <td>Boston</td>\n",
       "      <td>9</td>\n",
       "      <td>1</td>\n",
       "      <td>99999</td>\n",
       "      <td>431.0</td>\n",
       "      <td>17.00</td>\n",
       "      <td>93984</td>\n",
       "      <td>64875</td>\n",
       "      <td>...</td>\n",
       "      <td>6</td>\n",
       "      <td>6</td>\n",
       "      <td>2</td>\n",
       "      <td>6</td>\n",
       "      <td>6</td>\n",
       "      <td>6</td>\n",
       "      <td>6</td>\n",
       "      <td>3</td>\n",
       "      <td>1</td>\n",
       "      <td>1.050053e+06</td>\n",
       "    </tr>\n",
       "    <tr>\n",
       "      <th>4</th>\n",
       "      <td>2010</td>\n",
       "      <td>5</td>\n",
       "      <td>Boston</td>\n",
       "      <td>9</td>\n",
       "      <td>1</td>\n",
       "      <td>99999</td>\n",
       "      <td>2302.0</td>\n",
       "      <td>5.32</td>\n",
       "      <td>86553</td>\n",
       "      <td>64875</td>\n",
       "      <td>...</td>\n",
       "      <td>6</td>\n",
       "      <td>6</td>\n",
       "      <td>2</td>\n",
       "      <td>6</td>\n",
       "      <td>6</td>\n",
       "      <td>6</td>\n",
       "      <td>6</td>\n",
       "      <td>3</td>\n",
       "      <td>1</td>\n",
       "      <td>4.492308e+05</td>\n",
       "    </tr>\n",
       "  </tbody>\n",
       "</table>\n",
       "<p>5 rows × 57 columns</p>\n",
       "</div>"
      ],
      "text/plain": [
       "   Year  LoanCharacteristicsID    Bank  FIPSStateNumericCode  FIPSCountyCode  \\\n",
       "0  2010                      1  Boston                     4              13   \n",
       "1  2010                      2  Boston                     9               1   \n",
       "2  2010                      3  Boston                     9               1   \n",
       "3  2010                      4  Boston                     9               1   \n",
       "4  2010                      5  Boston                     9               1   \n",
       "\n",
       "   CoreBasedStatisticalAreaCode  CensusTractIdentifier  \\\n",
       "0                         99999                  101.0   \n",
       "1                         99999                  726.0   \n",
       "2                         99999                  612.0   \n",
       "3                         99999                  431.0   \n",
       "4                         99999                 2302.0   \n",
       "\n",
       "   CensusTractMinorityRatioPercent  CensusTractMedFamIncomeAmount  \\\n",
       "0                             3.64                          85567   \n",
       "1                            24.22                          44167   \n",
       "2                            11.32                          65361   \n",
       "3                            17.00                          93984   \n",
       "4                             5.32                          86553   \n",
       "\n",
       "   LocalAreaMedianIncomeAmount  ...  Borrower1Race4Type  Borrower1Race5Type  \\\n",
       "0                        44769  ...                   6                   6   \n",
       "1                        64875  ...                   6                   6   \n",
       "2                        64875  ...                   6                   6   \n",
       "3                        64875  ...                   6                   6   \n",
       "4                        64875  ...                   6                   6   \n",
       "\n",
       "   Borrower2EthnicityType  Borrower2Race2Type  Borrower2Race3Type  \\\n",
       "0                       2                   6                   6   \n",
       "1                       2                   6                   6   \n",
       "2                       5                   8                   8   \n",
       "3                       2                   6                   6   \n",
       "4                       2                   6                   6   \n",
       "\n",
       "   Borrower2Race4Type  Borrower2Race5Type  HOEPALoanStatusType  \\\n",
       "0                   6                   6                    3   \n",
       "1                   6                   6                    3   \n",
       "2                   8                   8                    3   \n",
       "3                   6                   6                    3   \n",
       "4                   6                   6                    3   \n",
       "\n",
       "   LienPriorityType    HousePrice  \n",
       "0                 1  4.099404e+05  \n",
       "1                 1  1.919912e+05  \n",
       "2                 1  2.749924e+05  \n",
       "3                 1  1.050053e+06  \n",
       "4                 1  4.492308e+05  \n",
       "\n",
       "[5 rows x 57 columns]"
      ]
     },
     "execution_count": 6,
     "metadata": {},
     "output_type": "execute_result"
    }
   ],
   "source": [
    "df.head()"
   ]
  },
  {
   "cell_type": "code",
   "execution_count": 5,
   "id": "7aa28424",
   "metadata": {},
   "outputs": [
    {
     "name": "stdout",
     "output_type": "stream",
     "text": [
      "<class 'pandas.core.frame.DataFrame'>\n",
      "RangeIndex: 693331 entries, 0 to 693330\n",
      "Data columns (total 57 columns):\n",
      " #   Column                           Non-Null Count   Dtype  \n",
      "---  ------                           --------------   -----  \n",
      " 0   Year                             693331 non-null  int64  \n",
      " 1   LoanCharacteristicsID            693331 non-null  int64  \n",
      " 2   Bank                             693331 non-null  object \n",
      " 3   FIPSStateNumericCode             693331 non-null  int64  \n",
      " 4   FIPSCountyCode                   693331 non-null  int64  \n",
      " 5   CoreBasedStatisticalAreaCode     693331 non-null  int64  \n",
      " 6   CensusTractIdentifier            693331 non-null  float64\n",
      " 7   CensusTractMinorityRatioPercent  693331 non-null  float64\n",
      " 8   CensusTractMedFamIncomeAmount    693331 non-null  int64  \n",
      " 9   LocalAreaMedianIncomeAmount      693331 non-null  int64  \n",
      " 10  TotalMonthlyIncomeAmount         693331 non-null  int64  \n",
      " 11  HUDMedianIncomeAmount            693331 non-null  int64  \n",
      " 12  LoanAcquisitionActualUPBAmt      693331 non-null  int64  \n",
      " 13  LTVRatioPercent                  693331 non-null  float64\n",
      " 14  NoteDate                         693331 non-null  int64  \n",
      " 15  LoanAcquistionDate               693331 non-null  int64  \n",
      " 16  LoanPurposeType                  693331 non-null  int64  \n",
      " 17  ProductCategoryName              693331 non-null  int64  \n",
      " 18  MortgageType                     693331 non-null  int64  \n",
      " 19  ScheduledTotalPaymentCount       693331 non-null  int64  \n",
      " 20  LoanAmortizationMaxTermMonths    693331 non-null  int64  \n",
      " 21  MortgageLoanSellerInstType       693331 non-null  int64  \n",
      " 22  BorrowerCount                    693331 non-null  int64  \n",
      " 23  BorrowerFirstTimeHomebuyer       693331 non-null  int64  \n",
      " 24  Borrower1Race1Type               693331 non-null  int64  \n",
      " 25  Borrower2Race1Type               693331 non-null  int64  \n",
      " 26  Borrower1GenderType              693331 non-null  int64  \n",
      " 27  Borrower2GenderType              693331 non-null  int64  \n",
      " 28  Borrower1AgeAtApplicationYears   693331 non-null  int64  \n",
      " 29  Borrower2AgeAtApplicationYears   693331 non-null  int64  \n",
      " 30  PropertyUsageType                693331 non-null  int64  \n",
      " 31  PropertyUnitCount                693331 non-null  int64  \n",
      " 32  NoteRatePercent                  693331 non-null  float64\n",
      " 33  NoteAmount                       693331 non-null  int64  \n",
      " 34  HousingExpenseRatioPercent       693331 non-null  float64\n",
      " 35  TotalDebtExpenseRatioPercent     693331 non-null  float64\n",
      " 36  Borrower1CreditScoreValue        693331 non-null  int64  \n",
      " 37  Borrower2CreditScoreValue        693331 non-null  int64  \n",
      " 38  PMICoveragePercent               693331 non-null  float64\n",
      " 39  EmploymentBorrowerSelfEmployed   693331 non-null  int64  \n",
      " 40  PropertyType                     693331 non-null  object \n",
      " 41  IndexSourceType                  693331 non-null  int64  \n",
      " 42  MarginRatePercent                693331 non-null  int64  \n",
      " 43  PrepaymentPenaltyExpirationDate  693331 non-null  object \n",
      " 44  Borrower1EthnicityType           693331 non-null  int64  \n",
      " 45  Borrower1Race2Type               693331 non-null  int64  \n",
      " 46  Borrower1Race3Type               693331 non-null  int64  \n",
      " 47  Borrower1Race4Type               693331 non-null  int64  \n",
      " 48  Borrower1Race5Type               693331 non-null  int64  \n",
      " 49  Borrower2EthnicityType           693331 non-null  int64  \n",
      " 50  Borrower2Race2Type               693331 non-null  int64  \n",
      " 51  Borrower2Race3Type               693331 non-null  int64  \n",
      " 52  Borrower2Race4Type               693331 non-null  int64  \n",
      " 53  Borrower2Race5Type               693331 non-null  int64  \n",
      " 54  HOEPALoanStatusType              693331 non-null  int64  \n",
      " 55  LienPriorityType                 693331 non-null  int64  \n",
      " 56  HousePrice                       693331 non-null  float64\n",
      "dtypes: float64(8), int64(46), object(3)\n",
      "memory usage: 301.5+ MB\n"
     ]
    }
   ],
   "source": [
    "df.info()"
   ]
  },
  {
   "cell_type": "markdown",
   "id": "4a7f6708",
   "metadata": {},
   "source": [
    "## Summary Statistics of each variable"
   ]
  },
  {
   "cell_type": "code",
   "execution_count": 32,
   "id": "578196f4",
   "metadata": {},
   "outputs": [
    {
     "data": {
      "text/html": [
       "<div>\n",
       "<style scoped>\n",
       "    .dataframe tbody tr th:only-of-type {\n",
       "        vertical-align: middle;\n",
       "    }\n",
       "\n",
       "    .dataframe tbody tr th {\n",
       "        vertical-align: top;\n",
       "    }\n",
       "\n",
       "    .dataframe thead th {\n",
       "        text-align: right;\n",
       "    }\n",
       "</style>\n",
       "<table border=\"1\" class=\"dataframe\">\n",
       "  <thead>\n",
       "    <tr style=\"text-align: right;\">\n",
       "      <th></th>\n",
       "      <th>Year</th>\n",
       "      <th>LoanCharacteristicsID</th>\n",
       "      <th>FIPSStateNumericCode</th>\n",
       "      <th>FIPSCountyCode</th>\n",
       "      <th>CoreBasedStatisticalAreaCode</th>\n",
       "      <th>CensusTractIdentifier</th>\n",
       "      <th>CensusTractMinorityRatioPercent</th>\n",
       "      <th>CensusTractMedFamIncomeAmount</th>\n",
       "      <th>LocalAreaMedianIncomeAmount</th>\n",
       "      <th>TotalMonthlyIncomeAmount</th>\n",
       "      <th>...</th>\n",
       "      <th>Borrower1Race4Type</th>\n",
       "      <th>Borrower1Race5Type</th>\n",
       "      <th>Borrower2EthnicityType</th>\n",
       "      <th>Borrower2Race2Type</th>\n",
       "      <th>Borrower2Race3Type</th>\n",
       "      <th>Borrower2Race4Type</th>\n",
       "      <th>Borrower2Race5Type</th>\n",
       "      <th>HOEPALoanStatusType</th>\n",
       "      <th>LienPriorityType</th>\n",
       "      <th>HousePrice</th>\n",
       "    </tr>\n",
       "  </thead>\n",
       "  <tbody>\n",
       "    <tr>\n",
       "      <th>count</th>\n",
       "      <td>693331.000000</td>\n",
       "      <td>6.933310e+05</td>\n",
       "      <td>693331.000000</td>\n",
       "      <td>693331.000000</td>\n",
       "      <td>693331.000000</td>\n",
       "      <td>693331.000000</td>\n",
       "      <td>693331.000000</td>\n",
       "      <td>693331.000000</td>\n",
       "      <td>693331.000000</td>\n",
       "      <td>6.933310e+05</td>\n",
       "      <td>...</td>\n",
       "      <td>693331.000000</td>\n",
       "      <td>693331.000000</td>\n",
       "      <td>693331.000000</td>\n",
       "      <td>693331.000000</td>\n",
       "      <td>693331.000000</td>\n",
       "      <td>693331.000000</td>\n",
       "      <td>693331.000000</td>\n",
       "      <td>693331.000000</td>\n",
       "      <td>693331.0</td>\n",
       "      <td>6.933310e+05</td>\n",
       "    </tr>\n",
       "    <tr>\n",
       "      <th>mean</th>\n",
       "      <td>2016.199455</td>\n",
       "      <td>1.560534e+06</td>\n",
       "      <td>28.861007</td>\n",
       "      <td>85.131099</td>\n",
       "      <td>40314.069170</td>\n",
       "      <td>3100.446973</td>\n",
       "      <td>14.321825</td>\n",
       "      <td>77896.142053</td>\n",
       "      <td>66043.282682</td>\n",
       "      <td>7.275480e+04</td>\n",
       "      <td>...</td>\n",
       "      <td>6.297875</td>\n",
       "      <td>6.297897</td>\n",
       "      <td>3.217297</td>\n",
       "      <td>6.968961</td>\n",
       "      <td>6.971379</td>\n",
       "      <td>6.971455</td>\n",
       "      <td>6.971465</td>\n",
       "      <td>2.659946</td>\n",
       "      <td>1.0</td>\n",
       "      <td>2.937499e+05</td>\n",
       "    </tr>\n",
       "    <tr>\n",
       "      <th>std</th>\n",
       "      <td>3.443245</td>\n",
       "      <td>1.087803e+06</td>\n",
       "      <td>13.179897</td>\n",
       "      <td>69.248296</td>\n",
       "      <td>28497.571982</td>\n",
       "      <td>3871.233286</td>\n",
       "      <td>16.086175</td>\n",
       "      <td>29173.896163</td>\n",
       "      <td>14162.192926</td>\n",
       "      <td>1.091972e+05</td>\n",
       "      <td>...</td>\n",
       "      <td>0.457438</td>\n",
       "      <td>0.457344</td>\n",
       "      <td>1.464119</td>\n",
       "      <td>0.909852</td>\n",
       "      <td>0.905844</td>\n",
       "      <td>0.905729</td>\n",
       "      <td>0.905713</td>\n",
       "      <td>0.473779</td>\n",
       "      <td>0.0</td>\n",
       "      <td>3.059139e+05</td>\n",
       "    </tr>\n",
       "    <tr>\n",
       "      <th>min</th>\n",
       "      <td>2010.000000</td>\n",
       "      <td>1.000000e+00</td>\n",
       "      <td>1.000000</td>\n",
       "      <td>1.000000</td>\n",
       "      <td>29.000000</td>\n",
       "      <td>1.000000</td>\n",
       "      <td>0.000000</td>\n",
       "      <td>0.000000</td>\n",
       "      <td>0.000000</td>\n",
       "      <td>1.000000e+00</td>\n",
       "      <td>...</td>\n",
       "      <td>1.000000</td>\n",
       "      <td>5.000000</td>\n",
       "      <td>1.000000</td>\n",
       "      <td>1.000000</td>\n",
       "      <td>3.000000</td>\n",
       "      <td>4.000000</td>\n",
       "      <td>5.000000</td>\n",
       "      <td>1.000000</td>\n",
       "      <td>1.0</td>\n",
       "      <td>1.300000e+04</td>\n",
       "    </tr>\n",
       "    <tr>\n",
       "      <th>25%</th>\n",
       "      <td>2013.000000</td>\n",
       "      <td>3.475500e+04</td>\n",
       "      <td>19.000000</td>\n",
       "      <td>35.000000</td>\n",
       "      <td>19380.000000</td>\n",
       "      <td>106.000000</td>\n",
       "      <td>4.210000</td>\n",
       "      <td>57829.000000</td>\n",
       "      <td>56217.000000</td>\n",
       "      <td>1.136100e+04</td>\n",
       "      <td>...</td>\n",
       "      <td>6.000000</td>\n",
       "      <td>6.000000</td>\n",
       "      <td>2.000000</td>\n",
       "      <td>6.000000</td>\n",
       "      <td>6.000000</td>\n",
       "      <td>6.000000</td>\n",
       "      <td>6.000000</td>\n",
       "      <td>2.000000</td>\n",
       "      <td>1.0</td>\n",
       "      <td>1.600000e+05</td>\n",
       "    </tr>\n",
       "    <tr>\n",
       "      <th>50%</th>\n",
       "      <td>2017.000000</td>\n",
       "      <td>2.084072e+06</td>\n",
       "      <td>26.000000</td>\n",
       "      <td>73.000000</td>\n",
       "      <td>31080.000000</td>\n",
       "      <td>535.050000</td>\n",
       "      <td>8.440000</td>\n",
       "      <td>72292.000000</td>\n",
       "      <td>65889.000000</td>\n",
       "      <td>5.606400e+04</td>\n",
       "      <td>...</td>\n",
       "      <td>6.000000</td>\n",
       "      <td>6.000000</td>\n",
       "      <td>2.000000</td>\n",
       "      <td>7.000000</td>\n",
       "      <td>7.000000</td>\n",
       "      <td>7.000000</td>\n",
       "      <td>7.000000</td>\n",
       "      <td>3.000000</td>\n",
       "      <td>1.0</td>\n",
       "      <td>2.440000e+05</td>\n",
       "    </tr>\n",
       "    <tr>\n",
       "      <th>75%</th>\n",
       "      <td>2019.000000</td>\n",
       "      <td>2.470896e+06</td>\n",
       "      <td>39.000000</td>\n",
       "      <td>121.000000</td>\n",
       "      <td>44140.000000</td>\n",
       "      <td>7012.060000</td>\n",
       "      <td>17.630000</td>\n",
       "      <td>92339.000000</td>\n",
       "      <td>74278.000000</td>\n",
       "      <td>1.023360e+05</td>\n",
       "      <td>...</td>\n",
       "      <td>7.000000</td>\n",
       "      <td>7.000000</td>\n",
       "      <td>5.000000</td>\n",
       "      <td>8.000000</td>\n",
       "      <td>8.000000</td>\n",
       "      <td>8.000000</td>\n",
       "      <td>8.000000</td>\n",
       "      <td>3.000000</td>\n",
       "      <td>1.0</td>\n",
       "      <td>3.636364e+05</td>\n",
       "    </tr>\n",
       "    <tr>\n",
       "      <th>max</th>\n",
       "      <td>2021.000000</td>\n",
       "      <td>2.690373e+06</td>\n",
       "      <td>78.000000</td>\n",
       "      <td>840.000000</td>\n",
       "      <td>99999.000000</td>\n",
       "      <td>47700.000000</td>\n",
       "      <td>100.000000</td>\n",
       "      <td>250001.000000</td>\n",
       "      <td>150332.000000</td>\n",
       "      <td>3.617821e+07</td>\n",
       "      <td>...</td>\n",
       "      <td>7.000000</td>\n",
       "      <td>7.000000</td>\n",
       "      <td>5.000000</td>\n",
       "      <td>8.000000</td>\n",
       "      <td>8.000000</td>\n",
       "      <td>8.000000</td>\n",
       "      <td>8.000000</td>\n",
       "      <td>3.000000</td>\n",
       "      <td>1.0</td>\n",
       "      <td>4.350475e+07</td>\n",
       "    </tr>\n",
       "  </tbody>\n",
       "</table>\n",
       "<p>8 rows × 54 columns</p>\n",
       "</div>"
      ],
      "text/plain": [
       "                Year  LoanCharacteristicsID  FIPSStateNumericCode  \\\n",
       "count  693331.000000           6.933310e+05         693331.000000   \n",
       "mean     2016.199455           1.560534e+06             28.861007   \n",
       "std         3.443245           1.087803e+06             13.179897   \n",
       "min      2010.000000           1.000000e+00              1.000000   \n",
       "25%      2013.000000           3.475500e+04             19.000000   \n",
       "50%      2017.000000           2.084072e+06             26.000000   \n",
       "75%      2019.000000           2.470896e+06             39.000000   \n",
       "max      2021.000000           2.690373e+06             78.000000   \n",
       "\n",
       "       FIPSCountyCode  CoreBasedStatisticalAreaCode  CensusTractIdentifier  \\\n",
       "count   693331.000000                 693331.000000          693331.000000   \n",
       "mean        85.131099                  40314.069170            3100.446973   \n",
       "std         69.248296                  28497.571982            3871.233286   \n",
       "min          1.000000                     29.000000               1.000000   \n",
       "25%         35.000000                  19380.000000             106.000000   \n",
       "50%         73.000000                  31080.000000             535.050000   \n",
       "75%        121.000000                  44140.000000            7012.060000   \n",
       "max        840.000000                  99999.000000           47700.000000   \n",
       "\n",
       "       CensusTractMinorityRatioPercent  CensusTractMedFamIncomeAmount  \\\n",
       "count                    693331.000000                  693331.000000   \n",
       "mean                         14.321825                   77896.142053   \n",
       "std                          16.086175                   29173.896163   \n",
       "min                           0.000000                       0.000000   \n",
       "25%                           4.210000                   57829.000000   \n",
       "50%                           8.440000                   72292.000000   \n",
       "75%                          17.630000                   92339.000000   \n",
       "max                         100.000000                  250001.000000   \n",
       "\n",
       "       LocalAreaMedianIncomeAmount  TotalMonthlyIncomeAmount  ...  \\\n",
       "count                693331.000000              6.933310e+05  ...   \n",
       "mean                  66043.282682              7.275480e+04  ...   \n",
       "std                   14162.192926              1.091972e+05  ...   \n",
       "min                       0.000000              1.000000e+00  ...   \n",
       "25%                   56217.000000              1.136100e+04  ...   \n",
       "50%                   65889.000000              5.606400e+04  ...   \n",
       "75%                   74278.000000              1.023360e+05  ...   \n",
       "max                  150332.000000              3.617821e+07  ...   \n",
       "\n",
       "       Borrower1Race4Type  Borrower1Race5Type  Borrower2EthnicityType  \\\n",
       "count       693331.000000       693331.000000           693331.000000   \n",
       "mean             6.297875            6.297897                3.217297   \n",
       "std              0.457438            0.457344                1.464119   \n",
       "min              1.000000            5.000000                1.000000   \n",
       "25%              6.000000            6.000000                2.000000   \n",
       "50%              6.000000            6.000000                2.000000   \n",
       "75%              7.000000            7.000000                5.000000   \n",
       "max              7.000000            7.000000                5.000000   \n",
       "\n",
       "       Borrower2Race2Type  Borrower2Race3Type  Borrower2Race4Type  \\\n",
       "count       693331.000000       693331.000000       693331.000000   \n",
       "mean             6.968961            6.971379            6.971455   \n",
       "std              0.909852            0.905844            0.905729   \n",
       "min              1.000000            3.000000            4.000000   \n",
       "25%              6.000000            6.000000            6.000000   \n",
       "50%              7.000000            7.000000            7.000000   \n",
       "75%              8.000000            8.000000            8.000000   \n",
       "max              8.000000            8.000000            8.000000   \n",
       "\n",
       "       Borrower2Race5Type  HOEPALoanStatusType  LienPriorityType    HousePrice  \n",
       "count       693331.000000        693331.000000          693331.0  6.933310e+05  \n",
       "mean             6.971465             2.659946               1.0  2.937499e+05  \n",
       "std              0.905713             0.473779               0.0  3.059139e+05  \n",
       "min              5.000000             1.000000               1.0  1.300000e+04  \n",
       "25%              6.000000             2.000000               1.0  1.600000e+05  \n",
       "50%              7.000000             3.000000               1.0  2.440000e+05  \n",
       "75%              8.000000             3.000000               1.0  3.636364e+05  \n",
       "max              8.000000             3.000000               1.0  4.350475e+07  \n",
       "\n",
       "[8 rows x 54 columns]"
      ]
     },
     "execution_count": 32,
     "metadata": {},
     "output_type": "execute_result"
    }
   ],
   "source": [
    "df.describe()"
   ]
  },
  {
   "cell_type": "markdown",
   "id": "6c3bdbbf",
   "metadata": {},
   "source": [
    "# 2. Checking For Missing Data"
   ]
  },
  {
   "cell_type": "markdown",
   "id": "e53e8dea",
   "metadata": {},
   "source": [
    "## Exploring Duplicates"
   ]
  },
  {
   "cell_type": "code",
   "execution_count": 33,
   "id": "037cbb62",
   "metadata": {},
   "outputs": [
    {
     "data": {
      "text/plain": [
       "False"
      ]
     },
     "execution_count": 33,
     "metadata": {},
     "output_type": "execute_result"
    }
   ],
   "source": [
    "#Does the dataframe have duplicates?\n",
    "df.duplicated().any()"
   ]
  },
  {
   "cell_type": "code",
   "execution_count": 34,
   "id": "1e11d229",
   "metadata": {},
   "outputs": [
    {
     "data": {
      "text/html": [
       "<div>\n",
       "<style scoped>\n",
       "    .dataframe tbody tr th:only-of-type {\n",
       "        vertical-align: middle;\n",
       "    }\n",
       "\n",
       "    .dataframe tbody tr th {\n",
       "        vertical-align: top;\n",
       "    }\n",
       "\n",
       "    .dataframe thead th {\n",
       "        text-align: right;\n",
       "    }\n",
       "</style>\n",
       "<table border=\"1\" class=\"dataframe\">\n",
       "  <thead>\n",
       "    <tr style=\"text-align: right;\">\n",
       "      <th></th>\n",
       "      <th>Year</th>\n",
       "      <th>LoanCharacteristicsID</th>\n",
       "      <th>Bank</th>\n",
       "      <th>FIPSStateNumericCode</th>\n",
       "      <th>FIPSCountyCode</th>\n",
       "      <th>CoreBasedStatisticalAreaCode</th>\n",
       "      <th>CensusTractIdentifier</th>\n",
       "      <th>CensusTractMinorityRatioPercent</th>\n",
       "      <th>CensusTractMedFamIncomeAmount</th>\n",
       "      <th>LocalAreaMedianIncomeAmount</th>\n",
       "      <th>...</th>\n",
       "      <th>Borrower1Race4Type</th>\n",
       "      <th>Borrower1Race5Type</th>\n",
       "      <th>Borrower2EthnicityType</th>\n",
       "      <th>Borrower2Race2Type</th>\n",
       "      <th>Borrower2Race3Type</th>\n",
       "      <th>Borrower2Race4Type</th>\n",
       "      <th>Borrower2Race5Type</th>\n",
       "      <th>HOEPALoanStatusType</th>\n",
       "      <th>LienPriorityType</th>\n",
       "      <th>HousePrice</th>\n",
       "    </tr>\n",
       "  </thead>\n",
       "  <tbody>\n",
       "  </tbody>\n",
       "</table>\n",
       "<p>0 rows × 57 columns</p>\n",
       "</div>"
      ],
      "text/plain": [
       "Empty DataFrame\n",
       "Columns: [Year, LoanCharacteristicsID, Bank, FIPSStateNumericCode, FIPSCountyCode, CoreBasedStatisticalAreaCode, CensusTractIdentifier, CensusTractMinorityRatioPercent, CensusTractMedFamIncomeAmount, LocalAreaMedianIncomeAmount, TotalMonthlyIncomeAmount, HUDMedianIncomeAmount, LoanAcquisitionActualUPBAmt, LTVRatioPercent, NoteDate, LoanAcquistionDate, LoanPurposeType, ProductCategoryName, MortgageType, ScheduledTotalPaymentCount, LoanAmortizationMaxTermMonths, MortgageLoanSellerInstType, BorrowerCount, BorrowerFirstTimeHomebuyer, Borrower1Race1Type, Borrower2Race1Type, Borrower1GenderType, Borrower2GenderType, Borrower1AgeAtApplicationYears, Borrower2AgeAtApplicationYears, PropertyUsageType, PropertyUnitCount, NoteRatePercent, NoteAmount, HousingExpenseRatioPercent, TotalDebtExpenseRatioPercent, Borrower1CreditScoreValue, Borrower2CreditScoreValue, PMICoveragePercent, EmploymentBorrowerSelfEmployed, PropertyType, IndexSourceType, MarginRatePercent, PrepaymentPenaltyExpirationDate, Borrower1EthnicityType, Borrower1Race2Type, Borrower1Race3Type, Borrower1Race4Type, Borrower1Race5Type, Borrower2EthnicityType, Borrower2Race2Type, Borrower2Race3Type, Borrower2Race4Type, Borrower2Race5Type, HOEPALoanStatusType, LienPriorityType, HousePrice]\n",
       "Index: []\n",
       "\n",
       "[0 rows x 57 columns]"
      ]
     },
     "execution_count": 34,
     "metadata": {},
     "output_type": "execute_result"
    }
   ],
   "source": [
    "# 'eq' method of Binary operator functions get equal to that of Dataframe and other,element-wise binary operator equal\n",
    "#,'Any' method of computations/descriptive stats returns whether any element is true,potentially over an axis.\n",
    "df[df.eq('?').any(1)]"
   ]
  },
  {
   "cell_type": "code",
   "execution_count": 35,
   "id": "a2f5f8cb",
   "metadata": {},
   "outputs": [
    {
     "data": {
      "text/html": [
       "<div>\n",
       "<style scoped>\n",
       "    .dataframe tbody tr th:only-of-type {\n",
       "        vertical-align: middle;\n",
       "    }\n",
       "\n",
       "    .dataframe tbody tr th {\n",
       "        vertical-align: top;\n",
       "    }\n",
       "\n",
       "    .dataframe thead th {\n",
       "        text-align: right;\n",
       "    }\n",
       "</style>\n",
       "<table border=\"1\" class=\"dataframe\">\n",
       "  <thead>\n",
       "    <tr style=\"text-align: right;\">\n",
       "      <th></th>\n",
       "    </tr>\n",
       "  </thead>\n",
       "  <tbody>\n",
       "    <tr>\n",
       "      <th>0</th>\n",
       "    </tr>\n",
       "    <tr>\n",
       "      <th>1</th>\n",
       "    </tr>\n",
       "    <tr>\n",
       "      <th>2</th>\n",
       "    </tr>\n",
       "    <tr>\n",
       "      <th>3</th>\n",
       "    </tr>\n",
       "    <tr>\n",
       "      <th>4</th>\n",
       "    </tr>\n",
       "    <tr>\n",
       "      <th>...</th>\n",
       "    </tr>\n",
       "    <tr>\n",
       "      <th>693326</th>\n",
       "    </tr>\n",
       "    <tr>\n",
       "      <th>693327</th>\n",
       "    </tr>\n",
       "    <tr>\n",
       "      <th>693328</th>\n",
       "    </tr>\n",
       "    <tr>\n",
       "      <th>693329</th>\n",
       "    </tr>\n",
       "    <tr>\n",
       "      <th>693330</th>\n",
       "    </tr>\n",
       "  </tbody>\n",
       "</table>\n",
       "<p>693331 rows × 0 columns</p>\n",
       "</div>"
      ],
      "text/plain": [
       "Empty DataFrame\n",
       "Columns: []\n",
       "Index: [0, 1, 2, 3, 4, 5, 6, 7, 8, 9, 10, 11, 12, 13, 14, 15, 16, 17, 18, 19, 20, 21, 22, 23, 24, 25, 26, 27, 28, 29, 30, 31, 32, 33, 34, 35, 36, 37, 38, 39, 40, 41, 42, 43, 44, 45, 46, 47, 48, 49, 50, 51, 52, 53, 54, 55, 56, 57, 58, 59, 60, 61, 62, 63, 64, 65, 66, 67, 68, 69, 70, 71, 72, 73, 74, 75, 76, 77, 78, 79, 80, 81, 82, 83, 84, 85, 86, 87, 88, 89, 90, 91, 92, 93, 94, 95, 96, 97, 98, 99, ...]\n",
       "\n",
       "[693331 rows x 0 columns]"
      ]
     },
     "execution_count": 35,
     "metadata": {},
     "output_type": "execute_result"
    }
   ],
   "source": [
    "#Finding the NaN values\n",
    "#isna method of 'Missing data handling' detects missing values and any() method of 'computations/descriptive stats' returns whether \n",
    "#any element is true potentially over an axis.\n",
    "df[df.columns[df.isna().any()]]"
   ]
  },
  {
   "cell_type": "code",
   "execution_count": 36,
   "id": "3a2cd7ef",
   "metadata": {},
   "outputs": [
    {
     "data": {
      "text/html": [
       "<div>\n",
       "<style scoped>\n",
       "    .dataframe tbody tr th:only-of-type {\n",
       "        vertical-align: middle;\n",
       "    }\n",
       "\n",
       "    .dataframe tbody tr th {\n",
       "        vertical-align: top;\n",
       "    }\n",
       "\n",
       "    .dataframe thead th {\n",
       "        text-align: right;\n",
       "    }\n",
       "</style>\n",
       "<table border=\"1\" class=\"dataframe\">\n",
       "  <thead>\n",
       "    <tr style=\"text-align: right;\">\n",
       "      <th></th>\n",
       "      <th>Year</th>\n",
       "      <th>LoanCharacteristicsID</th>\n",
       "      <th>Bank</th>\n",
       "      <th>FIPSStateNumericCode</th>\n",
       "      <th>FIPSCountyCode</th>\n",
       "      <th>CoreBasedStatisticalAreaCode</th>\n",
       "      <th>CensusTractIdentifier</th>\n",
       "      <th>CensusTractMinorityRatioPercent</th>\n",
       "      <th>CensusTractMedFamIncomeAmount</th>\n",
       "      <th>LocalAreaMedianIncomeAmount</th>\n",
       "      <th>...</th>\n",
       "      <th>Borrower1Race4Type</th>\n",
       "      <th>Borrower1Race5Type</th>\n",
       "      <th>Borrower2EthnicityType</th>\n",
       "      <th>Borrower2Race2Type</th>\n",
       "      <th>Borrower2Race3Type</th>\n",
       "      <th>Borrower2Race4Type</th>\n",
       "      <th>Borrower2Race5Type</th>\n",
       "      <th>HOEPALoanStatusType</th>\n",
       "      <th>LienPriorityType</th>\n",
       "      <th>HousePrice</th>\n",
       "    </tr>\n",
       "  </thead>\n",
       "  <tbody>\n",
       "  </tbody>\n",
       "</table>\n",
       "<p>0 rows × 57 columns</p>\n",
       "</div>"
      ],
      "text/plain": [
       "Empty DataFrame\n",
       "Columns: [Year, LoanCharacteristicsID, Bank, FIPSStateNumericCode, FIPSCountyCode, CoreBasedStatisticalAreaCode, CensusTractIdentifier, CensusTractMinorityRatioPercent, CensusTractMedFamIncomeAmount, LocalAreaMedianIncomeAmount, TotalMonthlyIncomeAmount, HUDMedianIncomeAmount, LoanAcquisitionActualUPBAmt, LTVRatioPercent, NoteDate, LoanAcquistionDate, LoanPurposeType, ProductCategoryName, MortgageType, ScheduledTotalPaymentCount, LoanAmortizationMaxTermMonths, MortgageLoanSellerInstType, BorrowerCount, BorrowerFirstTimeHomebuyer, Borrower1Race1Type, Borrower2Race1Type, Borrower1GenderType, Borrower2GenderType, Borrower1AgeAtApplicationYears, Borrower2AgeAtApplicationYears, PropertyUsageType, PropertyUnitCount, NoteRatePercent, NoteAmount, HousingExpenseRatioPercent, TotalDebtExpenseRatioPercent, Borrower1CreditScoreValue, Borrower2CreditScoreValue, PMICoveragePercent, EmploymentBorrowerSelfEmployed, PropertyType, IndexSourceType, MarginRatePercent, PrepaymentPenaltyExpirationDate, Borrower1EthnicityType, Borrower1Race2Type, Borrower1Race3Type, Borrower1Race4Type, Borrower1Race5Type, Borrower2EthnicityType, Borrower2Race2Type, Borrower2Race3Type, Borrower2Race4Type, Borrower2Race5Type, HOEPALoanStatusType, LienPriorityType, HousePrice]\n",
       "Index: []\n",
       "\n",
       "[0 rows x 57 columns]"
      ]
     },
     "execution_count": 36,
     "metadata": {},
     "output_type": "execute_result"
    }
   ],
   "source": [
    "# Replace '?' with None\n",
    "#'Replace' method of Missing Data Handling replace values given in to_replace with value\n",
    "df= df.replace(to_replace='?', value='NaN')\n",
    "\n",
    "# 'eq' method of Binary operator functions get equal to that of Dataframe and other,element-wise binary operator equal\n",
    "#,'Any' method of computations/descriptive stats returns whether any element is true,potentially over an axis.\n",
    "df[df.eq('?').any(1)]"
   ]
  },
  {
   "cell_type": "markdown",
   "id": "127d0936",
   "metadata": {},
   "source": [
    "# 3. Visualization (identify the shape of your data)"
   ]
  },
  {
   "cell_type": "markdown",
   "id": "4085eaa8",
   "metadata": {},
   "source": [
    "# 5:Detecting and Handling Outliers"
   ]
  },
  {
   "cell_type": "markdown",
   "id": "d8cbddf2",
   "metadata": {},
   "source": [
    "# 4.Correlation"
   ]
  },
  {
   "cell_type": "markdown",
   "id": "ec3cbeb7",
   "metadata": {},
   "source": [
    "# 5.Model"
   ]
  },
  {
   "cell_type": "code",
   "execution_count": 16,
   "id": "2d44dc3d",
   "metadata": {},
   "outputs": [],
   "source": [
    "df.drop(['Bank', 'PropertyType','PrepaymentPenaltyExpirationDate','ProductCategoryName','IndexSourceType','LienPriorityType'], axis=1, inplace=True)"
   ]
  },
  {
   "cell_type": "markdown",
   "id": "5285d1a9",
   "metadata": {},
   "source": [
    "## 6.1 Visual Inspection"
   ]
  },
  {
   "cell_type": "markdown",
   "id": "e7ca6b85",
   "metadata": {},
   "source": [
    "## 6.2 Rolling Statistics"
   ]
  },
  {
   "cell_type": "code",
   "execution_count": 38,
   "id": "fec9dbeb",
   "metadata": {},
   "outputs": [
    {
     "name": "stderr",
     "output_type": "stream",
     "text": [
      "C:\\Users\\Avinash Rauniyar\\Anaconda\\lib\\site-packages\\IPython\\core\\pylabtools.py:151: UserWarning: Creating legend with loc=\"best\" can be slow with large amounts of data.\n",
      "  fig.canvas.print_figure(bytes_io, **kw)\n"
     ]
    },
    {
     "data": {
      "image/png": "[encoded data removed]",
      "text/plain": [
       "<Figure size 432x288 with 1 Axes>"
      ]
     },
     "metadata": {
      "needs_background": "light"
     },
     "output_type": "display_data"
    }
   ],
   "source": [
    "# Calculate rolling statistics\n",
    "rolling_mean = df.rolling(window=12).mean()\n",
    "rolling_std = df.rolling(window=12).std()\n",
    "\n",
    "# Plot rolling statistics\n",
    "plt.plot(df, label='Original')\n",
    "plt.plot(rolling_mean, label='Rolling Mean')\n",
    "plt.plot(rolling_std, label='Rolling Std')\n",
    "plt.xlabel('Year')\n",
    "plt.ylabel('House Price')\n",
    "plt.title('Rolling Mean and Standard Deviation')\n",
    "plt.legend()\n",
    "plt.show()\n"
   ]
  },
  {
   "cell_type": "markdown",
   "id": "90a7e76b",
   "metadata": {},
   "source": [
    "The significance level in the above code is 0.05, which is the default value used by the adfuller() function in the statsmodels.tsa.stattools module. It represents the level of significance at which we want to test the null hypothesis that the time series is non-stationary. If the p-value of the test is less than the significance level, then we can reject the null hypothesis and conclude that the time series is stationary. In this case, the p-value is 0.0 which is less than the significance level of 0.05, therefore we can reject the null hypothesis and conclude that the time series is stationary."
   ]
  },
  {
   "cell_type": "markdown",
   "id": "6a73ffbf",
   "metadata": {},
   "source": [
    "## 6.3 Augmented Dickey-Fuller test ADF"
   ]
  },
  {
   "cell_type": "code",
   "execution_count": 12,
   "id": "c2cd789c",
   "metadata": {},
   "outputs": [
    {
     "name": "stdout",
     "output_type": "stream",
     "text": [
      "ADF Statistic: -40.027638059870355\n",
      "p-value: 0.0\n",
      "Critical Values:\n",
      "\t1%: -3.4303594332595924\n",
      "\t5%: -2.861544169392268\n",
      "\t10%: -2.5667722192147546\n"
     ]
    }
   ],
   "source": [
    "from statsmodels.tsa.stattools import adfuller\n",
    "\n",
    "# Perform ADF test\n",
    "result = adfuller(df['HousePrice'])\n",
    "print('ADF Statistic:', result[0])\n",
    "print('p-value:', result[1])\n",
    "print('Critical Values:')\n",
    "for key, value in result[4].items():\n",
    "    print('\\t{}: {}'.format(key, value))\n"
   ]
  },
  {
   "cell_type": "code",
   "execution_count": 13,
   "id": "82d19d40",
   "metadata": {},
   "outputs": [
    {
     "name": "stderr",
     "output_type": "stream",
     "text": [
      "C:\\Users\\Avinash Rauniyar\\Anaconda\\lib\\site-packages\\statsmodels\\graphics\\tsaplots.py:348: FutureWarning: The default method 'yw' can produce PACF values outside of the [-1,1] interval. After 0.13, the default will change tounadjusted Yule-Walker ('ywm'). You can use this method now by setting method='ywm'.\n",
      "  warnings.warn(\n"
     ]
    },
    {
     "data": {
      "image/png": "[encoded data removed]",
      "text/plain": [
       "<Figure size 864x504 with 3 Axes>"
      ]
     },
     "metadata": {
      "needs_background": "light"
     },
     "output_type": "display_data"
    }
   ],
   "source": [
    "def tsplot(y, lags=None, figsize=(12, 7), syle='bmh'):\n",
    "    \n",
    "    if not isinstance(y, pd.Series):\n",
    "        y = pd.Series(y)\n",
    "        \n",
    "    with plt.style.context(style='bmh'):\n",
    "        fig = plt.figure(figsize=figsize)\n",
    "        layout = (2,2)\n",
    "        ts_ax = plt.subplot2grid(layout, (0,0), colspan=2)\n",
    "        acf_ax = plt.subplot2grid(layout, (1,0))\n",
    "        pacf_ax = plt.subplot2grid(layout, (1,1))\n",
    "        \n",
    "        y.plot(ax=ts_ax)\n",
    "        p_value = sm.tsa.stattools.adfuller(y)[1]\n",
    "        ts_ax.set_title('Time Series Analysis Plots\\n Dickey-Fuller: p={0:.5f}'.format(p_value))\n",
    "        smt.graphics.plot_acf(y, lags=lags, ax=acf_ax)\n",
    "        smt.graphics.plot_pacf(y, lags=lags, ax=pacf_ax)\n",
    "        plt.tight_layout()\n",
    "        \n",
    "tsplot(df.HousePrice, lags=30)"
   ]
  },
  {
   "cell_type": "code",
   "execution_count": 14,
   "id": "87fa3238",
   "metadata": {},
   "outputs": [
    {
     "name": "stderr",
     "output_type": "stream",
     "text": [
      "C:\\Users\\Avinash Rauniyar\\Anaconda\\lib\\site-packages\\statsmodels\\graphics\\tsaplots.py:348: FutureWarning: The default method 'yw' can produce PACF values outside of the [-1,1] interval. After 0.13, the default will change tounadjusted Yule-Walker ('ywm'). You can use this method now by setting method='ywm'.\n",
      "  warnings.warn(\n"
     ]
    },
    {
     "data": {
      "image/png": "[encoded data removed]",
      "text/plain": [
       "<Figure size 864x504 with 3 Axes>"
      ]
     },
     "metadata": {
      "needs_background": "light"
     },
     "output_type": "display_data"
    }
   ],
   "source": [
    "data_diff = df.HousePrice - df.HousePrice.shift(1)\n",
    "\n",
    "tsplot(data_diff[1:], lags=30)"
   ]
  },
  {
   "cell_type": "code",
   "execution_count": 45,
   "id": "cbea6201",
   "metadata": {},
   "outputs": [
    {
     "name": "stderr",
     "output_type": "stream",
     "text": [
      "C:\\Users\\Avinash Rauniyar\\Anaconda\\lib\\site-packages\\statsmodels\\graphics\\tsaplots.py:348: FutureWarning: The default method 'yw' can produce PACF values outside of the [-1,1] interval. After 0.13, the default will change tounadjusted Yule-Walker ('ywm'). You can use this method now by setting method='ywm'.\n",
      "  warnings.warn(\n"
     ]
    },
    {
     "data": {
      "image/png": "[encoded data removed]",
      "text/plain": [
       "<Figure size 432x288 with 1 Axes>"
      ]
     },
     "metadata": {
      "needs_background": "light"
     },
     "output_type": "display_data"
    },
    {
     "data": {
      "image/png": "[encoded data removed]",
      "text/plain": [
       "<Figure size 432x288 with 1 Axes>"
      ]
     },
     "metadata": {
      "needs_background": "light"
     },
     "output_type": "display_data"
    }
   ],
   "source": [
    "import pandas as pd\n",
    "from statsmodels.graphics.tsaplots import plot_acf, plot_pacf\n",
    "\n",
    "# Load the data\n",
    "data = df['Year']\n",
    "\n",
    "# Calculate the ACF and PACF\n",
    "acf = plot_acf(data, lags=30)\n",
    "pacf = plot_pacf(data, lags=30)\n",
    "\n",
    "# Look for significant spikes or peaks at multiples of lags\n",
    "# The seasonal period can be estimated as the lag corresponding to the first significant spike or peak\n"
   ]
  },
  {
   "cell_type": "code",
   "execution_count": 41,
   "id": "2b88b537",
   "metadata": {},
   "outputs": [
    {
     "data": {
      "text/plain": [
       "81"
      ]
     },
     "execution_count": 41,
     "metadata": {},
     "output_type": "execute_result"
    }
   ],
   "source": [
    "from itertools import product\n",
    "\n",
    "#Set initial values and some bounds\n",
    "ps = range(0, 3)\n",
    "d = 0\n",
    "qs = range(0, 3)\n",
    "Ps = range(0, 3)\n",
    "D = 0\n",
    "Qs = range(0, 3)\n",
    "s = 1\n",
    "\n",
    "#Create a list with all possible combinations of parameters\n",
    "parameters = product(ps, qs, Ps, Qs)\n",
    "parameters_list = list(parameters)\n",
    "len(parameters_list)"
   ]
  },
  {
   "cell_type": "code",
   "execution_count": null,
   "id": "1250b277",
   "metadata": {},
   "outputs": [
    {
     "data": {
      "application/vnd.jupyter.widget-view+json": {
       "model_id": "1bccbce612564eb980acf87b5cbf4875",
       "version_major": 2,
       "version_minor": 0
      },
      "text/plain": [
       "  0%|          | 0/81 [00:00<?, ?it/s]"
      ]
     },
     "metadata": {},
     "output_type": "display_data"
    },
    {
     "ename": "MemoryError",
     "evalue": "Unable to allocate 58.2 MiB for an array with shape (11, 693331) and data type float64",
     "output_type": "error",
     "traceback": [
      "\u001b[1;31m---------------------------------------------------------------------------\u001b[0m",
      "\u001b[1;31mMemoryError\u001b[0m                               Traceback (most recent call last)",
      "\u001b[1;32mstatsmodels\\tsa\\statespace\\_kalman_smoother.pyx\u001b[0m in \u001b[0;36mstatsmodels.tsa.statespace._kalman_smoother.dKalmanSmoother.allocate_arrays\u001b[1;34m()\u001b[0m\n",
      "\u001b[1;31mMemoryError\u001b[0m: Unable to allocate 58.2 MiB for an array with shape (11, 693331) and data type float64"
     ]
    },
    {
     "name": "stderr",
     "output_type": "stream",
     "text": [
      "Exception ignored in: 'statsmodels.tsa.statespace._kalman_smoother.dKalmanSmoother.reset_filter_method'\n",
      "Traceback (most recent call last):\n",
      "  File \"statsmodels\\tsa\\statespace\\_kalman_smoother.pyx\", line 986, in statsmodels.tsa.statespace._kalman_smoother.dKalmanSmoother.allocate_arrays\n",
      "numpy.core._exceptions.MemoryError: Unable to allocate 58.2 MiB for an array with shape (11, 693331) and data type float64\n"
     ]
    }
   ],
   "source": [
    "\n",
    "def optimize_SARIMA(parameters_list, d, D, s):\n",
    "    \"\"\"\n",
    "        Return dataframe with parameters and corresponding AIC\n",
    "        \n",
    "        parameters_list - list with (p, q, P, Q) tuples\n",
    "        d - integration order\n",
    "        D - seasonal integration order\n",
    "        s - length of season\n",
    "    \"\"\"\n",
    "    \n",
    "    results = []\n",
    "    best_aic = float('inf')\n",
    "    \n",
    "    for param in tqdm_notebook(parameters_list):\n",
    "        try: model = sm.tsa.statespace.SARIMAX(df.HousePrice, order=(param[0], d, param[1]),\n",
    "                                               seasonal_order=(param[2], D, param[3], s)).fit(disp=-1)\n",
    "        except:\n",
    "            continue\n",
    "            \n",
    "        aic = model.aic\n",
    "        \n",
    "        #Save best model, AIC and parameters\n",
    "        if aic < best_aic:\n",
    "            best_model = model\n",
    "            best_aic = aic\n",
    "            best_param = param\n",
    "        results.append([param, model.aic])\n",
    "        \n",
    "    result_table = pd.DataFrame(results)\n",
    "    result_table.columns = ['parameters', 'aic']\n",
    "    #Sort in ascending order, lower AIC is better\n",
    "    result_table = result_table.sort_values(by='aic', ascending=True).reset_index(drop=True)\n",
    "    \n",
    "    return result_table\n",
    "\n",
    "result_table = optimize_SARIMA(parameters_list, d, D, s)\n"
   ]
  },
  {
   "cell_type": "code",
   "execution_count": 27,
   "id": "7a94c5ea",
   "metadata": {},
   "outputs": [
    {
     "data": {
      "image/png": "[encoded data removed]",
      "text/plain": [
       "<Figure size 864x576 with 4 Axes>"
      ]
     },
     "metadata": {
      "needs_background": "light"
     },
     "output_type": "display_data"
    }
   ],
   "source": [
    "import pandas as pd\n",
    "import statsmodels.api as sm\n",
    "import matplotlib.pyplot as plt\n",
    "\n",
    "# Load the time series data\n",
    "df = pd.read_csv(r\"C:\\Users\\Avinash Rauniyar\\Desktop\\Spring 2023\\Capstone\\Fujian\\OneDrive_2023-01-26\\FHLB Data\\Final Data Kumar.csv\",index_col=0, parse_dates=True)\n",
    "df['HousePrice'] = df['NoteAmount'] / (df['LTVRatioPercent'] / 100)\n",
    "df.drop(['Bank', 'PropertyType','PrepaymentPenaltyExpirationDate','ProductCategoryName','IndexSourceType','LienPriorityType'], axis=1, inplace=True)\n",
    "\n",
    "# Perform seasonal decomposition\n",
    "decomposition = sm.tsa.seasonal_decompose(df['HousePrice'], period=12)\n",
    "\n",
    "# Plot the original data, trend, seasonal, and residual components\n",
    "fig, axs = plt.subplots(4, 1, figsize=(12, 8), sharex=True)\n",
    "axs[0].plot(df['HousePrice'])\n",
    "axs[0].set_title('Original Data')\n",
    "axs[1].plot(decomposition.trend)\n",
    "axs[1].set_title('Trend Component')\n",
    "axs[2].plot(decomposition.seasonal)\n",
    "axs[2].set_title('Seasonal Component')\n",
    "axs[3].plot(decomposition.resid)\n",
    "axs[3].set_title('Residual Component')\n",
    "plt.tight_layout()\n",
    "plt.show()\n"
   ]
  },
  {
   "cell_type": "code",
   "execution_count": 11,
   "id": "f8697ccc",
   "metadata": {},
   "outputs": [
    {
     "name": "stderr",
     "output_type": "stream",
     "text": [
      "C:\\Users\\Avinash Rauniyar\\Anaconda\\lib\\site-packages\\statsmodels\\tsa\\base\\tsa_model.py:471: ValueWarning: A date index has been provided, but it has no associated frequency information and so will be ignored when e.g. forecasting.\n",
      "  self._init_dates(dates, freq)\n",
      "C:\\Users\\Avinash Rauniyar\\Anaconda\\lib\\site-packages\\statsmodels\\tsa\\base\\tsa_model.py:471: ValueWarning: A date index has been provided, but it has no associated frequency information and so will be ignored when e.g. forecasting.\n",
      "  self._init_dates(dates, freq)\n",
      "C:\\Users\\Avinash Rauniyar\\Anaconda\\lib\\site-packages\\statsmodels\\tsa\\base\\tsa_model.py:834: ValueWarning: No supported index is available. Prediction results will be given with an integer index beginning at `start`.\n",
      "  return get_prediction_index(\n"
     ]
    },
    {
     "data": {
      "image/png": "[encoded data removed]",
      "text/plain": [
       "<Figure size 432x288 with 1 Axes>"
      ]
     },
     "metadata": {
      "needs_background": "light"
     },
     "output_type": "display_data"
    }
   ],
   "source": [
    "\n",
    "df = pd.read_csv(r\"C:\\Users\\Avinash Rauniyar\\Desktop\\Spring 2023\\Capstone\\Fujian\\OneDrive_2023-01-26\\FHLB Data\\Final Data Kumar.csv\",index_col=0, parse_dates=True)\n",
    "df['HousePrice'] = df['NoteAmount'] / (df['LTVRatioPercent'] / 100)\n",
    "df.drop(['Bank', 'PropertyType','PrepaymentPenaltyExpirationDate','ProductCategoryName','IndexSourceType','LienPriorityType'], axis=1, inplace=True)\n",
    "\n",
    "# Define the SARIMA model\n",
    "order = (0, 0, 1) # (p, d, q)\n",
    "seasonal_order = (2, 0, 2, 2) # (P, D, Q, S)\n",
    "model = sm.tsa.statespace.SARIMAX(df['HousePrice'], order=order, seasonal_order=seasonal_order)\n",
    "\n",
    "\n",
    "#(2, 1, 2, 1)  1.953624e+07\n",
    "\n",
    "#ps = range(0, 3)\n",
    "#d = 0\n",
    "#qs = range(0, 3)\n",
    "#Ps = range(0, 3)\n",
    "#D = 0\n",
    "#Qs = range(0, 3)\n",
    "#s = 1\n",
    "\n",
    "\n",
    "# Fit the model\n",
    "results = model.fit()\n",
    "\n",
    "# Obtain the forecasted values\n",
    "forecast = results.get_forecast(steps=1)\n",
    "forecasted_values = forecast.predicted_mean\n",
    "\n",
    "forecasted_values\n",
    "\n",
    "# Plot the actual and forecasted values\n",
    "plt.plot(df['HousePrice'], label='Actual')\n",
    "plt.plot(forecasted_values, label='Forecasted')\n",
    "plt.legend()\n",
    "plt.show()\n"
   ]
  },
  {
   "cell_type": "code",
   "execution_count": 13,
   "id": "5e711270",
   "metadata": {},
   "outputs": [
    {
     "name": "stdout",
     "output_type": "stream",
     "text": [
      "Training set size: 485331\n",
      "Testing set size: 208000\n",
      "RMSE: 395024.48613444145\n",
      "SMAPE: 185.77%\n",
      "MAPE: 95.14%\n"
     ]
    }
   ],
   "source": [
    "from sklearn.metrics import mean_squared_error\n",
    "from sklearn.model_selection import train_test_split\n",
    "import numpy as np\n",
    "\n",
    "def smape(y_true, y_pred):\n",
    "    \"\"\"\n",
    "    Calculates the Symmetric Mean Absolute Percentage Error (SMAPE) between the actual and predicted values.\n",
    "    \"\"\"\n",
    "    return 100/len(y_true) * np.sum(2 * np.abs(y_pred - y_true) / (np.abs(y_true) + np.abs(y_pred)))\n",
    "\n",
    "# Split the data into training and testing sets with 70-30 split\n",
    "train, test = train_test_split(df['HousePrice'], test_size=0.3, shuffle=False)\n",
    "\n",
    "# Verify the sizes of the training and testing sets\n",
    "print(\"Training set size:\", len(train))\n",
    "print(\"Testing set size:\", len(test))\n",
    "\n",
    "# Define the SARIMA model\n",
    "order = (0, 0, 1) # (p, d, q)\n",
    "seasonal_order = (2, 0, 2, 2) # (P, D, Q, S)\n",
    "model = sm.tsa.statespace.SARIMAX(train, order=order, seasonal_order=seasonal_order)\n",
    "\n",
    "# Fit the model on the train set\n",
    "results = model.fit()\n",
    "\n",
    "# Generate the forecast for the test set\n",
    "forecast = results.get_forecast(steps=len(test))\n",
    "forecasted_values = forecast.predicted_mean\n",
    "\n",
    "# Calculate the RMSE between the actual and forecasted values\n",
    "rmse = np.sqrt(mean_squared_error(test, forecasted_values))\n",
    "print('RMSE:', rmse)\n",
    "\n",
    "smape_val = smape(test, forecasted_values)\n",
    "print('SMAPE:', '{:.2%}'.format(smape_val/100))\n",
    "\n",
    "mape_val = np.mean(np.abs((test - forecasted_values) / test)) * 100\n",
    "print('MAPE:', '{:.2%}'.format(mape_val/100))\n"
   ]
  },
  {
   "cell_type": "code",
   "execution_count": 29,
   "id": "e3d8d03d",
   "metadata": {},
   "outputs": [
    {
     "name": "stdout",
     "output_type": "stream",
     "text": [
      "Warning: Maximum number of iterations has been exceeded.\n"
     ]
    },
    {
     "name": "stderr",
     "output_type": "stream",
     "text": [
      "C:\\Users\\Avinash Rauniyar\\Anaconda\\lib\\site-packages\\statsmodels\\base\\model.py:604: ConvergenceWarning: Maximum Likelihood optimization failed to converge. Check mle_retvals\n",
      "  warnings.warn(\"Maximum Likelihood optimization failed to \"\n"
     ]
    },
    {
     "name": "stdout",
     "output_type": "stream",
     "text": [
      "RMSE: 425957.7090300915\n",
      "SMAPE: 199.87%\n",
      "MAPE: 100.06%\n",
      "\n",
      "\n",
      "Warning: Maximum number of iterations has been exceeded.\n"
     ]
    },
    {
     "name": "stderr",
     "output_type": "stream",
     "text": [
      "C:\\Users\\Avinash Rauniyar\\Anaconda\\lib\\site-packages\\statsmodels\\base\\model.py:604: ConvergenceWarning: Maximum Likelihood optimization failed to converge. Check mle_retvals\n",
      "  warnings.warn(\"Maximum Likelihood optimization failed to \"\n"
     ]
    },
    {
     "name": "stdout",
     "output_type": "stream",
     "text": [
      "RMSE: 370198.5881665609\n",
      "SMAPE: 199.58%\n",
      "MAPE: 100.99%\n",
      "\n",
      "\n",
      "Warning: Maximum number of iterations has been exceeded.\n"
     ]
    },
    {
     "name": "stderr",
     "output_type": "stream",
     "text": [
      "C:\\Users\\Avinash Rauniyar\\Anaconda\\lib\\site-packages\\statsmodels\\base\\model.py:604: ConvergenceWarning: Maximum Likelihood optimization failed to converge. Check mle_retvals\n",
      "  warnings.warn(\"Maximum Likelihood optimization failed to \"\n"
     ]
    },
    {
     "name": "stdout",
     "output_type": "stream",
     "text": [
      "RMSE: 454228.45768188516\n",
      "SMAPE: 199.81%\n",
      "MAPE: 99.93%\n",
      "\n",
      "\n",
      "Warning: Maximum number of iterations has been exceeded.\n"
     ]
    },
    {
     "name": "stderr",
     "output_type": "stream",
     "text": [
      "C:\\Users\\Avinash Rauniyar\\Anaconda\\lib\\site-packages\\statsmodels\\base\\model.py:604: ConvergenceWarning: Maximum Likelihood optimization failed to converge. Check mle_retvals\n",
      "  warnings.warn(\"Maximum Likelihood optimization failed to \"\n"
     ]
    },
    {
     "name": "stdout",
     "output_type": "stream",
     "text": [
      "RMSE: 388574.04608426074\n",
      "SMAPE: 195.04%\n",
      "MAPE: 98.38%\n",
      "\n",
      "\n",
      "Warning: Maximum number of iterations has been exceeded.\n"
     ]
    },
    {
     "name": "stderr",
     "output_type": "stream",
     "text": [
      "C:\\Users\\Avinash Rauniyar\\Anaconda\\lib\\site-packages\\statsmodels\\base\\model.py:604: ConvergenceWarning: Maximum Likelihood optimization failed to converge. Check mle_retvals\n",
      "  warnings.warn(\"Maximum Likelihood optimization failed to \"\n"
     ]
    },
    {
     "name": "stdout",
     "output_type": "stream",
     "text": [
      "RMSE: 409568.4151269903\n",
      "SMAPE: 199.73%\n",
      "MAPE: 99.91%\n",
      "\n",
      "\n"
     ]
    }
   ],
   "source": [
    "from sklearn.model_selection import TimeSeriesSplit\n",
    "\n",
    "# Split the data into training and testing sets with a TimeSeriesSplit\n",
    "tscv = TimeSeriesSplit(n_splits=5)\n",
    "for train_index, test_index in tscv.split(df['HousePrice']):\n",
    "    train, test = df['HousePrice'].iloc[train_index], df['HousePrice'].iloc[test_index]\n",
    "    \n",
    "    # Define the SARIMA model\n",
    "    order = (0, 0, 1) # (p, d, q)\n",
    "    seasonal_order = (2, 0, 2, 2) # (P, D, Q, S)\n",
    "\n",
    "    model = sm.tsa.statespace.SARIMAX(train, order=order, seasonal_order=seasonal_order)\n",
    "\n",
    "    # Fit the model on the train set\n",
    "    results = model.fit(start_params=[0.1, 0.1, 0.1, 0.1, 0.1, 0.1], method='nm', maxiter=100, full_output=True, disp=True)\n",
    "\n",
    "\n",
    "    # Generate the forecast for the test set\n",
    "    forecast = results.get_forecast(steps=len(test))\n",
    "    forecasted_values = forecast.predicted_mean\n",
    "\n",
    "    # Calculate the RMSE between the actual and forecasted values\n",
    "    rmse = np.sqrt(mean_squared_error(test, forecasted_values))\n",
    "    print('RMSE:', rmse)\n",
    "\n",
    "    smape_val = smape(test, forecasted_values)\n",
    "    print('SMAPE:', '{:.2%}'.format(smape_val/100))\n",
    "\n",
    "    mape_val = np.mean(np.abs((test - forecasted_values) / test)) * 100\n",
    "    print('MAPE:', '{:.2%}'.format(mape_val/100))\n",
    "    \n",
    "    print('\\n')\n"
   ]
  },
  {
   "cell_type": "code",
   "execution_count": 28,
   "id": "728d6131",
   "metadata": {},
   "outputs": [
    {
     "name": "stdout",
     "output_type": "stream",
     "text": [
      "Epoch 1/5\n",
      "485331/485331 - 823s - loss: 9.6064e-05 - 823s/epoch - 2ms/step\n",
      "Epoch 2/5\n",
      "485331/485331 - 807s - loss: 8.6549e-05 - 807s/epoch - 2ms/step\n",
      "Epoch 3/5\n",
      "485331/485331 - 897s - loss: 8.6346e-05 - 897s/epoch - 2ms/step\n",
      "Epoch 4/5\n",
      "485331/485331 - 893s - loss: 8.6152e-05 - 893s/epoch - 2ms/step\n",
      "Epoch 5/5\n",
      "485331/485331 - 771s - loss: 8.6189e-05 - 771s/epoch - 2ms/step\n"
     ]
    },
    {
     "data": {
      "image/png": "[encoded data removed]",
      "text/plain": [
       "<Figure size 432x288 with 1 Axes>"
      ]
     },
     "metadata": {
      "needs_background": "light"
     },
     "output_type": "display_data"
    },
    {
     "name": "stdout",
     "output_type": "stream",
     "text": [
      "6500/6500 [==============================] - 13s 2ms/step\n"
     ]
    },
    {
     "name": "stderr",
     "output_type": "stream",
     "text": [
      "C:\\Users\\Avinash Rauniyar\\Anaconda\\lib\\site-packages\\numpy\\core\\shape_base.py:65: VisibleDeprecationWarning: Creating an ndarray from ragged nested sequences (which is a list-or-tuple of lists-or-tuples-or ndarrays with different lengths or shapes) is deprecated. If you meant to do this, you must specify 'dtype=object' when creating the ndarray.\n",
      "  ary = asanyarray(ary)\n"
     ]
    },
    {
     "data": {
      "image/png": "[encoded data removed]",
      "text/plain": [
       "<Figure size 432x288 with 1 Axes>"
      ]
     },
     "metadata": {
      "needs_background": "light"
     },
     "output_type": "display_data"
    },
    {
     "name": "stdout",
     "output_type": "stream",
     "text": [
      "RMSE: 84891.19\n",
      "SMAPE: 200.00%\n",
      "MAPE: 1681838484.03%\n"
     ]
    }
   ],
   "source": [
    "# Load the dataset\n",
    "df = pd.read_csv(r\"C:\\Users\\Avinash Rauniyar\\Desktop\\Spring 2023\\Capstone\\Fujian\\OneDrive_2023-01-26\\FHLB Data\\Final Data Kumar.csv\")\n",
    "\n",
    "# Create a new feature 'HousePrice'\n",
    "df['HousePrice'] = df['NoteAmount'] / (df['LTVRatioPercent'] / 100)\n",
    "\n",
    "# Scale the data using MinMaxScaler\n",
    "scaler = MinMaxScaler(feature_range=(0, 1))\n",
    "df['HousePrice'] = scaler.fit_transform(df['HousePrice'].values.reshape(-1, 1))\n",
    "\n",
    "# Split the data into training and testing sets\n",
    "train_size = int(len(df) * 0.7)\n",
    "X_train, y_train = df[['TotalDebtExpenseRatioPercent', 'Year']][:train_size], df[['HousePrice']][1:train_size+1]\n",
    "X_test, y_test = df[['TotalDebtExpenseRatioPercent', 'Year']][train_size:-1], df[['HousePrice']][train_size+1:]\n",
    "\n",
    "# Reshape the data\n",
    "X_train = X_train.values.reshape(-1, 2, 1)\n",
    "y_train = y_train.values.reshape(-1, 1)\n",
    "X_test = X_test.values.reshape(-1, 2, 1)\n",
    "y_test = y_test.values.reshape(-1, 1)\n",
    "\n",
    "# Define the LSTM model architecture\n",
    "model = Sequential()\n",
    "model.add(LSTM(50, input_shape=(2, 1)))\n",
    "model.add(Dense(1))\n",
    "model.compile(loss='mean_squared_error', optimizer='adam')\n",
    "\n",
    "# Train the LSTM model and store the history\n",
    "history = model.fit(X_train, y_train, epochs=2000, batch_size=1, verbose=2)\n",
    "\n",
    "# Plot the training loss\n",
    "plt.plot(history.history['loss'])\n",
    "plt.title('Training Loss')\n",
    "plt.ylabel('Loss')\n",
    "plt.xlabel('Epoch')\n",
    "plt.show()\n",
    "\n",
    "# Make predictions on the test data\n",
    "predicted_values = model.predict(X_test)\n",
    "\n",
    "# Invert the scaling of the predictions\n",
    "predicted_values = scaler.inverse_transform(predicted_values)\n",
    "\n",
    "# Plot the actual and predicted values\n",
    "plt.plot(df['HousePrice'], label='Actual')\n",
    "plt.plot([None for i in X_train] + [x for x in predicted_values], label='Predicted')\n",
    "plt.legend()\n",
    "plt.show()\n",
    "\n",
    "# Calculate RMSE\n",
    "mse = mean_squared_error(y_test, predicted_values)\n",
    "rmse = math.sqrt(mse)\n",
    "\n",
    "# Calculate SMAPE\n",
    "smape = np.mean(np.abs(y_test - predicted_values) / ((np.abs(y_test) + np.abs(predicted_values))/2)) * 100\n",
    "\n",
    "# Calculate MAPE\n",
    "mape = np.mean(np.abs(y_test - predicted_values) / np.abs(y_test)) * 100\n",
    "\n",
    "print(\"RMSE: {:.2f}\".format(rmse))\n",
    "print(\"SMAPE: {:.2f}%\".format(smape))\n",
    "print(\"MAPE: {:.2f}%\".format(mape))\n"
   ]
  },
  {
   "cell_type": "code",
   "execution_count": null,
   "id": "107e54f5",
   "metadata": {},
   "outputs": [],
   "source": []
  }
 ],
 "metadata": {
  "kernelspec": {
   "display_name": "Python 3 (ipykernel)",
   "language": "python",
   "name": "python3"
  },
  "language_info": {
   "codemirror_mode": {
    "name": "ipython",
    "version": 3
   },
   "file_extension": ".py",
   "mimetype": "text/x-python",
   "name": "python",
   "nbconvert_exporter": "python",
   "pygments_lexer": "ipython3",
   "version": "3.9.12"
  }
 },
 "nbformat": 4,
 "nbformat_minor": 5
}
